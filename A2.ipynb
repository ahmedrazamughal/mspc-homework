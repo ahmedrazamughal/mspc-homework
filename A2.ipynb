{
 "cells": [
  {
   "cell_type": "code",
   "execution_count": 43,
   "id": "5c0e569a-8151-4cc4-9e7d-ae2f40b85e59",
   "metadata": {},
   "outputs": [
    {
     "name": "stdout",
     "output_type": "stream",
     "text": [
      "Uppercased: ['MANGO', 'KIWI', 'STRAWBERRY', 'GUAVA', 'PINEAPPLE', 'MANDARIN ORANGE']\n",
      "Capitalized: ['Mango', 'Kiwi', 'Strawberry', 'Guava', 'Pineapple', 'Mandarin orange']\n",
      "More than two vowels: ['guava', 'pineapple', 'mandarin orange']\n",
      "Only two vowels: ['mango', 'kiwi', 'strawberry']\n",
      "More than 5 chars: ['strawberry', 'pineapple', 'mandarin orange']\n",
      "Exactly 5 chars: ['mango', 'guava']\n",
      "Less than 5 chars: ['kiwi']\n",
      "Name lengths: [5, 4, 10, 5, 9, 15]\n",
      "Fruits with 'a': ['mango', 'strawberry', 'guava', 'pineapple', 'mandarin orange']\n",
      "Even numbers: [2, 4, 6, 8, 10, 256, -8, -4, -2]\n",
      "Odd numbers: [3, 5, 7, 9, 11, 13, 17, 19, 23, 5, -9]\n",
      "Positive numbers: [2, 3, 4, 5, 6, 7, 8, 9, 10, 11, 13, 17, 19, 23, 256, 5]\n",
      "Negative numbers: [-8, -4, -2, -9]\n"
     ]
    }
   ],
   "source": [
    "fruits = ['mango', 'kiwi', 'strawberry', 'guava', 'pineapple', 'mandarin orange']\n",
    "numbers = [2, 3, 4, 5, 6, 7, 8, 9, 10, 11, 13, 17, 19, 23, 256, -8, -4, -2, 5, -9]\n",
    "\n",
    "# Exercise 1\n",
    "uppercased_fruits = [fruit.upper() for fruit in fruits]\n",
    "print(\"Uppercased:\", uppercased_fruits)\n",
    "\n",
    "# Exercise 2\n",
    "capitalized_fruits = [fruit.capitalize() for fruit in fruits]\n",
    "print(\"Capitalized:\", capitalized_fruits)\n",
    "\n",
    "# Exercise 3\n",
    "vowels = \"aeiou\"\n",
    "fruits_with_more_than_two_vowels = [fruit for fruit in fruits if sum(fruit.count(v) for v in vowels) > 2]\n",
    "print(\"More than two vowels:\", fruits_with_more_than_two_vowels)\n",
    "\n",
    "# Exercise 4\n",
    "fruits_with_only_two_vowels = [fruit for fruit in fruits if sum(fruit.count(v) for v in vowels) == 2]\n",
    "print(\"Only two vowels:\", fruits_with_only_two_vowels)\n",
    "\n",
    "# Exercise 5\n",
    "fruits_with_more_than_five_chars = [fruit for fruit in fruits if len(fruit) > 5]\n",
    "print(\"More than 5 chars:\", fruits_with_more_than_five_chars)\n",
    "\n",
    "# Exercise 6\n",
    "fruits_with_exactly_five_chars = [fruit for fruit in fruits if len(fruit) == 5]\n",
    "print(\"Exactly 5 chars:\", fruits_with_exactly_five_chars)\n",
    "\n",
    "# Exercise 7\n",
    "fruits_with_less_than_five_chars = [fruit for fruit in fruits if len(fruit) < 5]\n",
    "print(\"Less than 5 chars:\", fruits_with_less_than_five_chars)\n",
    "\n",
    "# Exercise 8\n",
    "fruit_name_lengths = [len(fruit) for fruit in fruits]\n",
    "print(\"Name lengths:\", fruit_name_lengths)\n",
    "\n",
    "# Exercise 9\n",
    "fruits_with_letter_a = [fruit for fruit in fruits if 'a' in fruit.lower()]\n",
    "print(\"Fruits with 'a':\", fruits_with_letter_a)\n",
    "\n",
    "# Exercise 10\n",
    "even_numbers = [num for num in numbers if num % 2 == 0]\n",
    "print(\"Even numbers:\", even_numbers)\n",
    "\n",
    "# Exercise 11\n",
    "odd_numbers = [num for num in numbers if num % 2 != 0]\n",
    "print(\"Odd numbers:\", odd_numbers)\n",
    "\n",
    "# Exercise 12\n",
    "positive_numbers = [num for num in numbers if num > 0]\n",
    "print(\"Positive numbers:\", positive_numbers)\n",
    "\n",
    "# Exercise 13\n",
    "negative_numbers = [num for num in numbers if num < 0]\n",
    "print(\"Negative numbers:\", negative_numbers)"
   ]
  }
 ],
 "metadata": {
  "kernelspec": {
   "display_name": "Python 3 (ipykernel)",
   "language": "python",
   "name": "python3"
  },
  "language_info": {
   "codemirror_mode": {
    "name": "ipython",
    "version": 3
   },
   "file_extension": ".py",
   "mimetype": "text/x-python",
   "name": "python",
   "nbconvert_exporter": "python",
   "pygments_lexer": "ipython3",
   "version": "3.12.9"
  }
 },
 "nbformat": 4,
 "nbformat_minor": 5
}
