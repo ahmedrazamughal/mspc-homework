{
 "cells": [
  {
   "cell_type": "markdown",
   "id": "097b5c63-8b3e-40c6-b81c-64b97e18bc3b",
   "metadata": {},
   "source": [
    "## Homework\n",
    "\n",
    "You are given a list of dictionaries, where each dictionary represents a student and contains their name and a list of grades. Write a Python function that:\n",
    "\n",
    "* Iterates through the list of dictionaries.\n",
    "* For each student, calculates their average grade.\n",
    "* It sorts the grade.\n",
    "* Adds a new key to the dictionary named 'average' that stores their average grade.\n",
    "* Returns a list of dictionaries with the students' names and their average grades.\n",
    "\n",
    "Input\n",
    "```\n",
    "students = [\n",
    "    {'name': 'Alice', 'grades': [90, 85, 92]},\n",
    "    {'name': 'Bob', 'grades': [70, 88, 80]},\n",
    "    {'name': 'Charlie', 'grades': [95, 93, 97]}\n",
    "]\n",
    "```\n",
    "Output\n",
    "```\n",
    "[\n",
    "    {'name': 'Alice', 'grades': [85, 90, 92], 'average': 89.0},\n",
    "    {'name': 'Bob', 'grades': [70, 80, 88], 'average': 79.33},\n",
    "    {'name': 'Charlie', 'grades': [97, 95, 93], 'average': 95.0}\n",
    "]\n",
    "```\n",
    "\n",
    "\n"
   ]
  },
  {
   "cell_type": "code",
   "execution_count": 17,
   "id": "a2c2ca37-b6f4-4c40-9a60-1a8081a98bb9",
   "metadata": {},
   "outputs": [
    {
     "name": "stdout",
     "output_type": "stream",
     "text": [
      "{'name': 'Alice', 'grades': [85, 90, 92], 'average': 89.0}\n",
      "{'name': 'Bob', 'grades': [70, 80, 88], 'average': 79.33}\n",
      "{'name': 'Charlie', 'grades': [93, 95, 97], 'average': 95.0}\n"
     ]
    }
   ],
   "source": [
    "def process_students(students):\n",
    "    for student in students:\n",
    "        # Sort grades\n",
    "        student['grades'].sort()\n",
    "        # Calculate average (rounded to 2 decimal places)\n",
    "        avg = round(sum(student['grades']) / len(student['grades']), 2)\n",
    "        # Add new key 'average'\n",
    "        student['average'] = avg\n",
    "    return students\n",
    "\n",
    "# Test input\n",
    "students = [\n",
    "    {'name': 'Alice', 'grades': [90, 85, 92]},\n",
    "    {'name': 'Bob', 'grades': [70, 88, 80]},\n",
    "    {'name': 'Charlie', 'grades': [95, 93, 97]}\n",
    "]\n",
    "\n",
    "# Call function\n",
    "result = process_students(students)\n",
    "\n",
    "# Display result\n",
    "for entry in result:\n",
    "    print(entry)\n"
   ]
  }
 ],
 "metadata": {
  "kernelspec": {
   "display_name": "Python 3 (ipykernel)",
   "language": "python",
   "name": "python3"
  },
  "language_info": {
   "codemirror_mode": {
    "name": "ipython",
    "version": 3
   },
   "file_extension": ".py",
   "mimetype": "text/x-python",
   "name": "python",
   "nbconvert_exporter": "python",
   "pygments_lexer": "ipython3",
   "version": "3.12.9"
  }
 },
 "nbformat": 4,
 "nbformat_minor": 5
}
