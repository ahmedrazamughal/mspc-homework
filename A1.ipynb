{
 "cells": [
  {
   "cell_type": "code",
   "execution_count": 12,
   "id": "4a1265f3-d838-4de2-9e43-4469bf907708",
   "metadata": {},
   "outputs": [
    {
     "name": "stdout",
     "output_type": "stream",
     "text": [
      "message:  augustom,augustomartin,23,approved\n",
      "message:  juliasch,juliaschmidt,67,rejected\n",
      "message:  kmarx,karlmarx,42,rejected\n"
     ]
    }
   ],
   "source": [
    "# Original input messages\n",
    "messages = [\n",
    "    \"https://database.com/user/augustom,AugUSto Martin, 23, Approved,,\",\n",
    "    \"https://database.com/user/juliasch,JuLIA SchmidT, 67, rejected,,\",\n",
    "    \"https://database.com/user/kmarx,Karl Marx, 42, rejected,,\"\n",
    "]\n",
    "\n",
    "# Process and normalize messages\n",
    "for message in messages:\n",
    "    parts = message.strip().split(\",\")\n",
    "    user_id = parts[0].removeprefix(\"https://database.com/user/\")\n",
    "    full_name = parts[1].replace(\" \", \"\").lower()\n",
    "    age = parts[2].strip()\n",
    "    status = parts[3].strip().lower()\n",
    "    \n",
    "    corrected_message = f\"message:  {user_id},{full_name},{age},{status}\"\n",
    "    print(corrected_message)\n"
   ]
  },
  {
   "cell_type": "code",
   "execution_count": 8,
   "id": "b38c4a99-3465-4069-8da6-f621facd5a88",
   "metadata": {},
   "outputs": [
    {
     "name": "stdout",
     "output_type": "stream",
     "text": [
      "Diameter of circle: 9\n",
      "angle measure: 45\n",
      "Arc Length is: 3.5343\n"
     ]
    }
   ],
   "source": [
    "# Inputs\n",
    "diameter = 9\n",
    "angle_degrees = 45\n",
    "\n",
    "# Calculate radius\n",
    "radius = diameter / 2\n",
    "\n",
    "# Calculate arc length\n",
    "arc_length = 2 * 3.1416 * radius * (angle_degrees / 360)\n",
    "\n",
    "# Print results\n",
    "print(\"Diameter of circle:\", diameter)\n",
    "print(\"angle measure:\", angle_degrees)\n",
    "print(\"Arc Length is:\", arc_length)\n"
   ]
  }
 ],
 "metadata": {
  "kernelspec": {
   "display_name": "Python 3 (ipykernel)",
   "language": "python",
   "name": "python3"
  },
  "language_info": {
   "codemirror_mode": {
    "name": "ipython",
    "version": 3
   },
   "file_extension": ".py",
   "mimetype": "text/x-python",
   "name": "python",
   "nbconvert_exporter": "python",
   "pygments_lexer": "ipython3",
   "version": "3.12.9"
  }
 },
 "nbformat": 4,
 "nbformat_minor": 5
}
